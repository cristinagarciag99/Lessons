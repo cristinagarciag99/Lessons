{
 "cells": [
  {
   "cell_type": "markdown",
   "id": "be2d486e-faa3-4cc5-9b7a-37bacbcdb216",
   "metadata": {},
   "source": [
    "# Lab | Cleaning categorical data\n",
    "\n",
    "For this lab, we will be using the dataset in the Customer Analysis Business Case. This dataset can be found in `files_for_lab` folder. In this lab we will explore categorical data. You can also continue working on the same jupyter notebook from the previous lab. However that is not necessary.\n",
    "\n",
    "### Instructions"
   ]
  },
  {
   "cell_type": "markdown",
   "id": "b618e34e-d9e5-4e9c-b671-1a2b6ab5e2eb",
   "metadata": {},
   "source": [
    "1. Import the necessary libraries if you are starting a new notebook."
   ]
  },
  {
   "cell_type": "code",
   "execution_count": 16,
   "id": "2f6db83f-febd-4631-8da5-5ba8247b6802",
   "metadata": {},
   "outputs": [],
   "source": [
    "# Base libraries\n",
    "import pandas as pd\n",
    "import numpy as np\n",
    "  \n",
    "pd.set_option('display.max_columns', None)\n",
    "  \n",
    "# Visualization\n",
    "import matplotlib.pyplot as plt\n",
    "import seaborn as sns\n",
    "  \n",
    "%matplotlib inline"
   ]
  },
  {
   "cell_type": "markdown",
   "id": "38d4b784-5d23-4651-bb80-14097ce2d2c0",
   "metadata": {},
   "source": [
    "2. Load the csv. Use the variable `customer_df` as `customer_df = pd.read_csv()`."
   ]
  },
  {
   "cell_type": "code",
   "execution_count": 15,
   "id": "d93c0e14-1509-4592-9832-6662ab2bc802",
   "metadata": {},
   "outputs": [],
   "source": [
    "customer_df = pd.read_csv('./files_for_lab/we_fn_use_c_marketing_customer_value_analysis.csv')"
   ]
  },
  {
   "cell_type": "markdown",
   "id": "e88aa7ac-c47a-408e-bd83-8773b08c438c",
   "metadata": {},
   "source": [
    "3. What should we do with the `customer_id` column?"
   ]
  },
  {
   "cell_type": "markdown",
   "id": "ef4936bb-4947-4440-85d5-fb9423a0de4b",
   "metadata": {},
   "source": [
    " We should delete it as it is only a unique identifier for each row in the data. You can relate this to the primary key in a table in SQL"
   ]
  },
  {
   "cell_type": "markdown",
   "id": "8a401990-1245-4a24-8b95-63ec14c7f3ae",
   "metadata": {},
   "source": [
    "4. Load the continuous and discrete variables into `numericals_df` and `categorical_df` variables, for eg.: \n",
    "    ```py\n",
    "    numerical_df = customer_df.select_dtypes()\n",
    "    categorical_df = customer_df.select_dtypes()\n",
    "    ```"
   ]
  },
  {
   "cell_type": "code",
   "execution_count": 20,
   "id": "eaf28db1-c820-491b-be5b-8c8321557641",
   "metadata": {},
   "outputs": [],
   "source": [
    "numerical_df = customer_df.select_dtypes('float')"
   ]
  },
  {
   "cell_type": "code",
   "execution_count": 21,
   "id": "430b955b-56d7-449e-a91c-1f8cd07d75f4",
   "metadata": {},
   "outputs": [],
   "source": [
    "categorical_df = customer_df.select_dtypes('object')"
   ]
  },
  {
   "cell_type": "markdown",
   "id": "9865938e-0838-4bd6-ac4e-0419050232fa",
   "metadata": {},
   "source": [
    "5. Plot every categorical variable. What can you see in the plots? Note that in the previous lab you used a bar plot to plot categorical data, with each unique category in the column on the x-axis and an appropriate measure on the y-axis. However, this time you will try a different plot. This time in each plot for the categorical variable you will have, each unique category in the column on the x-axis and the target(which is numerical) on the Y-axis"
   ]
  },
  {
   "cell_type": "code",
   "execution_count": 25,
   "id": "63487939-e7b5-41c9-a3cd-9effb70fc989",
   "metadata": {},
   "outputs": [
    {
     "ename": "NameError",
     "evalue": "name 'categorical' is not defined",
     "output_type": "error",
     "traceback": [
      "\u001b[1;31m---------------------------------------------------------------------------\u001b[0m",
      "\u001b[1;31mNameError\u001b[0m                                 Traceback (most recent call last)",
      "Input \u001b[1;32mIn [25]\u001b[0m, in \u001b[0;36m<cell line: 1>\u001b[1;34m()\u001b[0m\n\u001b[1;32m----> 1\u001b[0m \u001b[38;5;28;01mfor\u001b[39;00m col \u001b[38;5;129;01min\u001b[39;00m \u001b[43mcategorical\u001b[49m\u001b[38;5;241m.\u001b[39mcolumns:\n\u001b[0;32m      2\u001b[0m     sns\u001b[38;5;241m.\u001b[39mbarplot(x \u001b[38;5;241m=\u001b[39m col, y \u001b[38;5;241m=\u001b[39m \u001b[38;5;124m'\u001b[39m\u001b[38;5;124mtotal_claim_amount\u001b[39m\u001b[38;5;124m'\u001b[39m, data \u001b[38;5;241m=\u001b[39m customer_df)\n\u001b[0;32m      3\u001b[0m     plt\u001b[38;5;241m.\u001b[39mshow()\n",
      "\u001b[1;31mNameError\u001b[0m: name 'categorical' is not defined"
     ]
    }
   ],
   "source": [
    "for col in categorical.columns:\n",
    "    sns.barplot(x = col, y = 'total_claim_amount', data = customer_df)\n",
    "    plt.show()"
   ]
  },
  {
   "cell_type": "markdown",
   "id": "df3f5c04-3353-474f-9996-0fbc40a55d94",
   "metadata": {},
   "source": [
    "6. For the categorical data, check if there is any data cleaning that need to perform. \n",
    "**Hint**: You can use the function `value_counts()` on each of the categorical columns and check the representation of different categories in each column. Discuss if this information might in some way be used for data cleaning."
   ]
  },
  {
   "cell_type": "code",
   "execution_count": 26,
   "id": "57a30eaf-38ba-4fe8-98d1-57e81e8c5f43",
   "metadata": {},
   "outputs": [
    {
     "ename": "NameError",
     "evalue": "name 'categorical' is not defined",
     "output_type": "error",
     "traceback": [
      "\u001b[1;31m---------------------------------------------------------------------------\u001b[0m",
      "\u001b[1;31mNameError\u001b[0m                                 Traceback (most recent call last)",
      "Input \u001b[1;32mIn [26]\u001b[0m, in \u001b[0;36m<cell line: 1>\u001b[1;34m()\u001b[0m\n\u001b[1;32m----> 1\u001b[0m \u001b[38;5;28;01mfor\u001b[39;00m col \u001b[38;5;129;01min\u001b[39;00m \u001b[43mcategorical\u001b[49m\u001b[38;5;241m.\u001b[39mcolumns:\n\u001b[0;32m      2\u001b[0m     \u001b[38;5;28mprint\u001b[39m(categorical[col]\u001b[38;5;241m.\u001b[39mvalue_counts())\n",
      "\u001b[1;31mNameError\u001b[0m: name 'categorical' is not defined"
     ]
    }
   ],
   "source": [
    "for col in categorical.columns:\n",
    "    print(categorical[col].value_counts())"
   ]
  }
 ],
 "metadata": {
  "kernelspec": {
   "display_name": "Python 3 (ipykernel)",
   "language": "python",
   "name": "python3"
  },
  "language_info": {
   "codemirror_mode": {
    "name": "ipython",
    "version": 3
   },
   "file_extension": ".py",
   "mimetype": "text/x-python",
   "name": "python",
   "nbconvert_exporter": "python",
   "pygments_lexer": "ipython3",
   "version": "3.9.12"
  }
 },
 "nbformat": 4,
 "nbformat_minor": 5
}
