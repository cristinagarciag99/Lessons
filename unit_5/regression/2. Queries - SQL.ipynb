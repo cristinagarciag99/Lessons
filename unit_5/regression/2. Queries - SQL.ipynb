{
 "cells": [
  {
   "cell_type": "markdown",
   "id": "e2c4c9ca-b958-49fc-b610-582485a0c985",
   "metadata": {},
   "source": [
    "# 2. SQL QUERIES"
   ]
  },
  {
   "cell_type": "code",
   "execution_count": null,
   "id": "3b76a46a-ad02-4764-b209-5e265014bac5",
   "metadata": {},
   "outputs": [],
   "source": []
  },
  {
   "cell_type": "code",
   "execution_count": null,
   "id": "fb691d7d-e428-4118-b0d1-8b50b9f974d0",
   "metadata": {},
   "outputs": [],
   "source": []
  }
 ],
 "metadata": {
  "kernelspec": {
   "display_name": "Python 3 (ipykernel)",
   "language": "python",
   "name": "python3"
  },
  "language_info": {
   "codemirror_mode": {
    "name": "ipython",
    "version": 3
   },
   "file_extension": ".py",
   "mimetype": "text/x-python",
   "name": "python",
   "nbconvert_exporter": "python",
   "pygments_lexer": "ipython3",
   "version": "3.9.12"
  }
 },
 "nbformat": 4,
 "nbformat_minor": 5
}
