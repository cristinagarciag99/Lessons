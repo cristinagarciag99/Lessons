{
 "cells": [
  {
   "cell_type": "markdown",
   "id": "a3a60375-8dcc-4e0f-a493-4a3a67f6c74a",
   "metadata": {},
   "source": [
    "# Lab | Random variable distributions\n",
    "Refer to the files_for_lab/we_fn_use_c_marketing_customer_value_analysis.csv dataset.\n",
    "\n",
    "## Instructions\n",
    "Get the numerical variables from our dataset.\n",
    "Check using a distribution plot if the variables fit the theoretical normal or exponential distribution.\n",
    "Check if any of the transformations (log-transform, etc.) we have seen up to this point changes the result."
   ]
  },
  {
   "cell_type": "code",
   "execution_count": 2,
   "id": "3f1946ee-0b5e-4d6c-8ac7-73af91674902",
   "metadata": {},
   "outputs": [
    {
     "ename": "IndentationError",
     "evalue": "expected an indented block (1710469332.py, line 15)",
     "output_type": "error",
     "traceback": [
      "\u001b[1;36m  Input \u001b[1;32mIn [2]\u001b[1;36m\u001b[0m\n\u001b[1;33m    x = np.log(x)\u001b[0m\n\u001b[1;37m    ^\u001b[0m\n\u001b[1;31mIndentationError\u001b[0m\u001b[1;31m:\u001b[0m expected an indented block\n"
     ]
    }
   ],
   "source": [
    "import pandas as pd\n",
    "import numpy as np\n",
    "\n",
    "data = pd.read_csv('./we_fn_use_c_marketing_customer_value_analysis.csv')\n",
    "data.head()\n",
    "\n",
    "numericals = data.select_dtypes(np.number)\n",
    "numericals.head()\n",
    "\n",
    "import seaborn as sns\n",
    "sns.distplot(numericals['Customer Lifetime Value'])\n",
    "plt.show()\n",
    "\n",
    "def log_transfom_clean(x):\n",
    "x = np.log(x)\n",
    "if np.isfinite(x):\n",
    "    return x\n",
    "else:\n",
    "    return 0\n",
    "\n",
    "temp = list(map(log_transfom_clean, numericals['Customer Lifetime Value']))\n",
    "sns.distplot(temp)\n",
    "plt.show()"
   ]
  }
 ],
 "metadata": {
  "kernelspec": {
   "display_name": "Python 3 (ipykernel)",
   "language": "python",
   "name": "python3"
  },
  "language_info": {
   "codemirror_mode": {
    "name": "ipython",
    "version": 3
   },
   "file_extension": ".py",
   "mimetype": "text/x-python",
   "name": "python",
   "nbconvert_exporter": "python",
   "pygments_lexer": "ipython3",
   "version": "3.9.12"
  }
 },
 "nbformat": 4,
 "nbformat_minor": 5
}
